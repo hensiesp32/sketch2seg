{
 "cells": [
  {
   "cell_type": "code",
   "execution_count": 2,
   "metadata": {},
   "outputs": [],
   "source": [
    "import cv2\n",
    "import matplotlib.pyplot as plt\n",
    "import numpy as np"
   ]
  },
  {
   "cell_type": "code",
   "execution_count": null,
   "metadata": {},
   "outputs": [],
   "source": [
    "\"\"\"\n",
    "bgr = \n",
    "(193, 182, 255), # 粉红色\n",
    "(113, 179, 60), # 亮绿色\n",
    "(238,104,123), # 紫色\n",
    "(147,112,219), # 玫红色\n",
    "(35,142,107), # 青绿色\n",
    "(250,206,135), # 蓝色\n",
    "(0,165,255), # 亮橙色\n",
    "(87,139,46), # 嫩绿色\n",
    "(205,90,106)  # 深紫色\n",
    "\n",
    "\"\"\""
   ]
  },
  {
   "cell_type": "code",
   "execution_count": 5,
   "metadata": {},
   "outputs": [
    {
     "name": "stdout",
     "output_type": "stream",
     "text": [
      "[113 193]\n"
     ]
    },
    {
     "data": {
      "text/plain": [
       "True"
      ]
     },
     "execution_count": 5,
     "metadata": {},
     "output_type": "execute_result"
    }
   ],
   "source": [
    "cluster_path = \"/root/code_dir/ControlNet_Seg/cluster_data/result_npy/n01887787_700_text_2.npy\"\n",
    "img = np.load(cluster_path)\n",
    "new_img = np.zeros((256,256,3))\n",
    "img_b = img[:,:,0] \n",
    "print(np.unique(img_b))\n",
    "\n",
    "new_img[:,:,0] = np.where(img_b == 193,0,0)\n",
    "new_img[:,:,1] = np.where(img_b == 193,165,0)\n",
    "new_img[:,:,2] = np.where(img_b == 193,255,0)\n",
    "cv2.imwrite(\"n01887787_700_text.png\",new_img)\n"
   ]
  },
  {
   "cell_type": "code",
   "execution_count": 6,
   "metadata": {},
   "outputs": [
    {
     "name": "stdout",
     "output_type": "stream",
     "text": [
      "[0 1]\n"
     ]
    },
    {
     "data": {
      "text/plain": [
       "True"
      ]
     },
     "execution_count": 6,
     "metadata": {},
     "output_type": "execute_result"
    }
   ],
   "source": [
    "gt_path = \"/root/code_dir/ControlNet_Seg/datasets/dataset/anno_npy/cow/n01887787_700.npy\"\n",
    "img = np.load(gt_path)\n",
    "print(np.unique(img))\n",
    "new_img = np.zeros((256,256,3))\n",
    "\n",
    "new_img[:,:,0] = np.where(img == 1, 0,0)\n",
    "new_img[:,:,1] = np.where(img == 1, 165, 0)\n",
    "new_img[:,:,2] = np.where(img == 1, 255, 0)\n",
    "cv2.imwrite(\"n01887787_700_gt.png\",new_img)\n"
   ]
  }
 ],
 "metadata": {
  "kernelspec": {
   "display_name": "control",
   "language": "python",
   "name": "python3"
  },
  "language_info": {
   "codemirror_mode": {
    "name": "ipython",
    "version": 3
   },
   "file_extension": ".py",
   "mimetype": "text/x-python",
   "name": "python",
   "nbconvert_exporter": "python",
   "pygments_lexer": "ipython3",
   "version": "3.8.5"
  }
 },
 "nbformat": 4,
 "nbformat_minor": 2
}
